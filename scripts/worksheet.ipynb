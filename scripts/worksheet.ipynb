{
 "cells": [
  {
   "cell_type": "code",
   "execution_count": 14,
   "metadata": {},
   "outputs": [
    {
     "name": "stdout",
     "output_type": "stream",
     "text": [
      "           support                                          itemsets\n",
      "0         0.796415                                      (Opp.FG%0.2)\n",
      "1         0.795134                                          (3P%0.2)\n",
      "2         0.794769                                          (FT%0.2)\n",
      "3         0.794220                                      (Opp.FT%0.2)\n",
      "4         0.793122                                          (3PA0.2)\n",
      "...            ...                                               ...\n",
      "31662105  0.205597                 (win, Opp.TOV0.2, PTS0.2, 3PA0.4)\n",
      "31662106  0.206329          (3P0.2, 3PA0.4, win, Opp.TOV0.2, 3PA0.2)\n",
      "31662107  0.205597         (PTS0.2, 3PA0.4, win, Opp.TOV0.2, 3PA0.2)\n",
      "31662108  0.203036          (3P0.2, PTS0.2, 3PA0.4, win, Opp.TOV0.2)\n",
      "31662109  0.203036  (3P0.2, PTS0.2, 3PA0.4, win, Opp.TOV0.2, 3PA0.2)\n",
      "\n",
      "[31662110 rows x 2 columns]\n",
      "           support                                          itemsets\n",
      "109       0.399671                                             (win)\n",
      "12739180  0.200658                                     (win, FTA0.6)\n",
      "12833279  0.200658                             (win, FTA0.6, FTA0.2)\n",
      "12833280  0.200658                             (win, FTA0.6, FTA0.4)\n",
      "12833281  0.200293                              (win, FTA0.6, FT0.2)\n",
      "...            ...                                               ...\n",
      "31662105  0.205597                 (win, Opp.TOV0.2, PTS0.2, 3PA0.4)\n",
      "31662106  0.206329          (3P0.2, 3PA0.4, win, Opp.TOV0.2, 3PA0.2)\n",
      "31662107  0.205597         (PTS0.2, 3PA0.4, win, Opp.TOV0.2, 3PA0.2)\n",
      "31662108  0.203036          (3P0.2, PTS0.2, 3PA0.4, win, Opp.TOV0.2)\n",
      "31662109  0.203036  (3P0.2, PTS0.2, 3PA0.4, win, Opp.TOV0.2, 3PA0.2)\n",
      "\n",
      "[55833 rows x 2 columns]\n",
      "No rules generated for wins with min_confidence=0.5\n"
     ]
    }
   ],
   "source": [
    "import pandas as pd\n",
    "from mlxtend.frequent_patterns import fpgrowth\n",
    "from mlxtend.frequent_patterns import association_rules\n",
    "\n",
    "min_support = .2\n",
    "min_confidence = 0.5\n",
    "\n",
    "# Assuming df is your truth table DataFrame\n",
    "# Ensure that df is a binary matrix (0 and 1 values)\n",
    "\n",
    "df = pd.read_csv('../data/cluster_results/cluster.stats.results-truth-table.csv', index_col=0)\n",
    "df = df[df[\"cluster\"] == 0]\n",
    "df = df.iloc[:, 5:]\n",
    "df = df.drop(columns=['cluster'])\n",
    "df = df.astype(bool)\n",
    "\n",
    "percentage_true = df['win'].mean() * 100\n",
    "\n",
    "print(f\"Percentage of True in 'win': {percentage_true}%\")\n",
    "\n",
    "\n",
    "# Applying the FP-growth algorithm to find frequent itemsets\n",
    "frequent_itemsets = fpgrowth(df, min_support=min_support, use_colnames=True)\n",
    "print(frequent_itemsets)\n",
    "\n",
    "# Filtering frequent itemsets to only include those containing 'win' being true\n",
    "frequent_itemsets_win_true = frequent_itemsets[frequent_itemsets['itemsets'].apply(lambda x: 'win' in x)]\n",
    "\n",
    "if len(frequent_itemsets_win_true) > 0:\n",
    "    # Displaying the filtered results\n",
    "    print(frequent_itemsets_win_true)\n",
    "    \n",
    "    # Generating association rules from the filtered frequent itemsets\n",
    "    rules = association_rules(frequent_itemsets_win_true, metric='confidence', min_threshold=min_confidence, support_only=True)\n",
    "\n",
    "    # Further filtering rules to only include those where 'win' is true in the consequents\n",
    "    rules_win_true = rules[rules['consequents'].apply(lambda x: 'win' in x and list(df['win'][x.index]) == [1]*len(x))]\n",
    "\n",
    "    if len(rules_win_true) > 0:\n",
    "        print(rules_win_true)\n",
    "    else:\n",
    "        print(f\"No rules generated for wins with min_confidence={min_confidence}\")\n",
    "else:\n",
    "    print(f\"No itemsets generated for wins with min_support={min_support}\")\n"
   ]
  }
 ],
 "metadata": {
  "kernelspec": {
   "display_name": "Python 3",
   "language": "python",
   "name": "python3"
  },
  "language_info": {
   "codemirror_mode": {
    "name": "ipython",
    "version": 3
   },
   "file_extension": ".py",
   "mimetype": "text/x-python",
   "name": "python",
   "nbconvert_exporter": "python",
   "pygments_lexer": "ipython3",
   "version": "3.11.4"
  }
 },
 "nbformat": 4,
 "nbformat_minor": 2
}
