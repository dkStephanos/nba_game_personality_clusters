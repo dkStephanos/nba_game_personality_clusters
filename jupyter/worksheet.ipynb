{
 "cells": [
  {
   "cell_type": "code",
   "execution_count": 16,
   "metadata": {},
   "outputs": [
    {
     "name": "stderr",
     "output_type": "stream",
     "text": [
      "c:\\Users\\dkste\\AppData\\Local\\Programs\\Python\\Python311\\Lib\\site-packages\\mlxtend\\frequent_patterns\\fpcommon.py:110: DeprecationWarning: DataFrames with non-bool types result in worse computationalperformance and their support might be discontinued in the future.Please use a DataFrame with bool type\n",
      "  warnings.warn(\n"
     ]
    },
    {
     "name": "stdout",
     "output_type": "stream",
     "text": [
      "No itemsets generated for wins with min_support=0.6\n"
     ]
    }
   ],
   "source": [
    "import pandas as pd\n",
    "from mlxtend.frequent_patterns import fpgrowth\n",
    "from mlxtend.frequent_patterns import association_rules\n",
    "\n",
    "min_support = .1\n",
    "min_confidence = 0.7\n",
    "\n",
    "# Assuming df is your truth table DataFrame\n",
    "# Ensure that df is a binary matrix (0 and 1 values)\n",
    "\n",
    "df = pd.read_csv('../data/cluster_results/cluster.stats.results-truth-table.csv', index_col=0)\n",
    "df = df[df[\"cluster\"] == 0]\n",
    "df = df.iloc[:, 5:]\n",
    "\n",
    "# Applying the FP-growth algorithm to find frequent itemsets\n",
    "frequent_itemsets = fpgrowth(df, min_support=min_support, use_colnames=True)\n",
    "\n",
    "# Filtering frequent itemsets to only include those containing 'win' being true\n",
    "frequent_itemsets_win_true = frequent_itemsets[frequent_itemsets['itemsets'].apply(lambda x: 'win' in x and list(df['win'][x.index]) == [1]*len(x))]\n",
    "\n",
    "if len(frequent_itemsets_win_true) > 0:\n",
    "    # Displaying the filtered results\n",
    "    print(frequent_itemsets_win_true)\n",
    "    \n",
    "    # Generating association rules from the filtered frequent itemsets\n",
    "    rules = association_rules(frequent_itemsets_win_true, metric='confidence', min_threshold=min_confidence)\n",
    "\n",
    "    # Further filtering rules to only include those where 'win' is true in the consequents\n",
    "    rules_win_true = rules[rules['consequents'].apply(lambda x: 'win' in x and list(df['win'][x.index]) == [1]*len(x))]\n",
    "\n",
    "    if len(rules_win_true) > 0:\n",
    "        print(rules_win_true)\n",
    "    else:\n",
    "        print(f\"No rules generated for wins with min_confidence={min_confidence}\")\n",
    "else:\n",
    "    print(f\"No itemsets generated for wins with min_support={min_support}\")\n"
   ]
  }
 ],
 "metadata": {
  "kernelspec": {
   "display_name": "Python 3",
   "language": "python",
   "name": "python3"
  },
  "language_info": {
   "codemirror_mode": {
    "name": "ipython",
    "version": 3
   },
   "file_extension": ".py",
   "mimetype": "text/x-python",
   "name": "python",
   "nbconvert_exporter": "python",
   "pygments_lexer": "ipython3",
   "version": "3.11.4"
  }
 },
 "nbformat": 4,
 "nbformat_minor": 2
}
