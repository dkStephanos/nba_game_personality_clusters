{
 "cells": [
  {
   "cell_type": "code",
   "execution_count": 4,
   "metadata": {},
   "outputs": [
    {
     "ename": "KeyboardInterrupt",
     "evalue": "",
     "output_type": "error",
     "traceback": [
      "\u001b[1;31m---------------------------------------------------------------------------\u001b[0m",
      "\u001b[1;31mKeyboardInterrupt\u001b[0m                         Traceback (most recent call last)",
      "\u001b[1;32mc:\\Users\\dkste\\Dev\\nba_game_cluster_profiles\\scripts\\worksheet.ipynb Cell 1\u001b[0m line \u001b[0;36m3\n\u001b[0;32m      <a href='vscode-notebook-cell:/c%3A/Users/dkste/Dev/nba_game_cluster_profiles/scripts/worksheet.ipynb#W1sZmlsZQ%3D%3D?line=0'>1</a>\u001b[0m \u001b[39mfrom\u001b[39;00m \u001b[39mmodels\u001b[39;00m\u001b[39m.\u001b[39;00m\u001b[39mfpgrowth\u001b[39;00m \u001b[39mimport\u001b[39;00m run_fpgrowth\n\u001b[1;32m----> <a href='vscode-notebook-cell:/c%3A/Users/dkste/Dev/nba_game_cluster_profiles/scripts/worksheet.ipynb#W1sZmlsZQ%3D%3D?line=2'>3</a>\u001b[0m run_fpgrowth(min_support \u001b[39m=\u001b[39;49m \u001b[39m.1\u001b[39;49m, min_confidence \u001b[39m=\u001b[39;49m \u001b[39m0.5\u001b[39;49m)\n",
      "File \u001b[1;32mc:\\Users\\dkste\\Dev\\nba_game_cluster_profiles\\scripts\\models\\fpgrowth.py:19\u001b[0m, in \u001b[0;36mrun_fpgrowth\u001b[1;34m(min_support, min_confidence)\u001b[0m\n\u001b[0;32m     16\u001b[0m df \u001b[39m=\u001b[39m df\u001b[39m.\u001b[39mastype(\u001b[39mbool\u001b[39m)\n\u001b[0;32m     18\u001b[0m \u001b[39m# Applying the FP-growth algorithm to find frequent itemsets\u001b[39;00m\n\u001b[1;32m---> 19\u001b[0m frequent_itemsets \u001b[39m=\u001b[39m fpgrowth(df, min_support\u001b[39m=\u001b[39;49mmin_support, use_colnames\u001b[39m=\u001b[39;49m\u001b[39mTrue\u001b[39;49;00m)\n\u001b[0;32m     21\u001b[0m \u001b[39m# Filtering frequent itemsets to only include those containing 'win' being true\u001b[39;00m\n\u001b[0;32m     22\u001b[0m frequent_itemsets_win_true \u001b[39m=\u001b[39m frequent_itemsets[\n\u001b[0;32m     23\u001b[0m     frequent_itemsets[\u001b[39m\"\u001b[39m\u001b[39mitemsets\u001b[39m\u001b[39m\"\u001b[39m]\u001b[39m.\u001b[39mapply(\u001b[39mlambda\u001b[39;00m x: \u001b[39m\"\u001b[39m\u001b[39mwin\u001b[39m\u001b[39m\"\u001b[39m \u001b[39min\u001b[39;00m x)\n\u001b[0;32m     24\u001b[0m ]\n",
      "File \u001b[1;32mc:\\Users\\dkste\\AppData\\Local\\Programs\\Python\\Python311\\Lib\\site-packages\\mlxtend\\frequent_patterns\\fpgrowth.py:90\u001b[0m, in \u001b[0;36mfpgrowth\u001b[1;34m(df, min_support, use_colnames, max_len, verbose)\u001b[0m\n\u001b[0;32m     87\u001b[0m minsup \u001b[39m=\u001b[39m math\u001b[39m.\u001b[39mceil(min_support \u001b[39m*\u001b[39m \u001b[39mlen\u001b[39m(df\u001b[39m.\u001b[39mindex))  \u001b[39m# min support as count\u001b[39;00m\n\u001b[0;32m     88\u001b[0m generator \u001b[39m=\u001b[39m fpg_step(tree, minsup, colname_map, max_len, verbose)\n\u001b[1;32m---> 90\u001b[0m \u001b[39mreturn\u001b[39;00m fpc\u001b[39m.\u001b[39;49mgenerate_itemsets(generator, \u001b[39mlen\u001b[39;49m(df\u001b[39m.\u001b[39;49mindex), colname_map)\n",
      "File \u001b[1;32mc:\\Users\\dkste\\AppData\\Local\\Programs\\Python\\Python311\\Lib\\site-packages\\mlxtend\\frequent_patterns\\fpcommon.py:68\u001b[0m, in \u001b[0;36mgenerate_itemsets\u001b[1;34m(generator, num_itemsets, colname_map)\u001b[0m\n\u001b[0;32m     66\u001b[0m itemsets \u001b[39m=\u001b[39m []\n\u001b[0;32m     67\u001b[0m supports \u001b[39m=\u001b[39m []\n\u001b[1;32m---> 68\u001b[0m \u001b[39mfor\u001b[39;00m sup, iset \u001b[39min\u001b[39;00m generator:\n\u001b[0;32m     69\u001b[0m     itemsets\u001b[39m.\u001b[39mappend(\u001b[39mfrozenset\u001b[39m(iset))\n\u001b[0;32m     70\u001b[0m     supports\u001b[39m.\u001b[39mappend(sup \u001b[39m/\u001b[39m num_itemsets)\n",
      "File \u001b[1;32mc:\\Users\\dkste\\AppData\\Local\\Programs\\Python\\Python311\\Lib\\site-packages\\mlxtend\\frequent_patterns\\fpgrowth.py:133\u001b[0m, in \u001b[0;36mfpg_step\u001b[1;34m(tree, minsup, colnames, max_len, verbose)\u001b[0m\n\u001b[0;32m    131\u001b[0m \u001b[39mfor\u001b[39;00m item \u001b[39min\u001b[39;00m items:\n\u001b[0;32m    132\u001b[0m     cond_tree \u001b[39m=\u001b[39m tree\u001b[39m.\u001b[39mconditional_tree(item, minsup)\n\u001b[1;32m--> 133\u001b[0m     \u001b[39mfor\u001b[39;00m sup, iset \u001b[39min\u001b[39;00m fpg_step(cond_tree, minsup, colnames, max_len, verbose):\n\u001b[0;32m    134\u001b[0m         \u001b[39myield\u001b[39;00m sup, iset\n",
      "File \u001b[1;32mc:\\Users\\dkste\\AppData\\Local\\Programs\\Python\\Python311\\Lib\\site-packages\\mlxtend\\frequent_patterns\\fpgrowth.py:133\u001b[0m, in \u001b[0;36mfpg_step\u001b[1;34m(tree, minsup, colnames, max_len, verbose)\u001b[0m\n\u001b[0;32m    131\u001b[0m \u001b[39mfor\u001b[39;00m item \u001b[39min\u001b[39;00m items:\n\u001b[0;32m    132\u001b[0m     cond_tree \u001b[39m=\u001b[39m tree\u001b[39m.\u001b[39mconditional_tree(item, minsup)\n\u001b[1;32m--> 133\u001b[0m     \u001b[39mfor\u001b[39;00m sup, iset \u001b[39min\u001b[39;00m fpg_step(cond_tree, minsup, colnames, max_len, verbose):\n\u001b[0;32m    134\u001b[0m         \u001b[39myield\u001b[39;00m sup, iset\n",
      "    \u001b[1;31m[... skipping similar frames: fpg_step at line 133 (3 times)]\u001b[0m\n",
      "File \u001b[1;32mc:\\Users\\dkste\\AppData\\Local\\Programs\\Python\\Python311\\Lib\\site-packages\\mlxtend\\frequent_patterns\\fpgrowth.py:133\u001b[0m, in \u001b[0;36mfpg_step\u001b[1;34m(tree, minsup, colnames, max_len, verbose)\u001b[0m\n\u001b[0;32m    131\u001b[0m \u001b[39mfor\u001b[39;00m item \u001b[39min\u001b[39;00m items:\n\u001b[0;32m    132\u001b[0m     cond_tree \u001b[39m=\u001b[39m tree\u001b[39m.\u001b[39mconditional_tree(item, minsup)\n\u001b[1;32m--> 133\u001b[0m     \u001b[39mfor\u001b[39;00m sup, iset \u001b[39min\u001b[39;00m fpg_step(cond_tree, minsup, colnames, max_len, verbose):\n\u001b[0;32m    134\u001b[0m         \u001b[39myield\u001b[39;00m sup, iset\n",
      "File \u001b[1;32mc:\\Users\\dkste\\AppData\\Local\\Programs\\Python\\Python311\\Lib\\site-packages\\mlxtend\\frequent_patterns\\fpgrowth.py:132\u001b[0m, in \u001b[0;36mfpg_step\u001b[1;34m(tree, minsup, colnames, max_len, verbose)\u001b[0m\n\u001b[0;32m    130\u001b[0m \u001b[39mif\u001b[39;00m \u001b[39mnot\u001b[39;00m tree\u001b[39m.\u001b[39mis_path() \u001b[39mand\u001b[39;00m (\u001b[39mnot\u001b[39;00m max_len \u001b[39mor\u001b[39;00m max_len \u001b[39m>\u001b[39m \u001b[39mlen\u001b[39m(tree\u001b[39m.\u001b[39mcond_items)):\n\u001b[0;32m    131\u001b[0m     \u001b[39mfor\u001b[39;00m item \u001b[39min\u001b[39;00m items:\n\u001b[1;32m--> 132\u001b[0m         cond_tree \u001b[39m=\u001b[39m tree\u001b[39m.\u001b[39;49mconditional_tree(item, minsup)\n\u001b[0;32m    133\u001b[0m         \u001b[39mfor\u001b[39;00m sup, iset \u001b[39min\u001b[39;00m fpg_step(cond_tree, minsup, colnames, max_len, verbose):\n\u001b[0;32m    134\u001b[0m             \u001b[39myield\u001b[39;00m sup, iset\n",
      "File \u001b[1;32mc:\\Users\\dkste\\AppData\\Local\\Programs\\Python\\Python311\\Lib\\site-packages\\mlxtend\\frequent_patterns\\fpcommon.py:164\u001b[0m, in \u001b[0;36mFPTree.conditional_tree\u001b[1;34m(self, cond_item, minsup)\u001b[0m\n\u001b[0;32m    162\u001b[0m     branches\u001b[39m.\u001b[39mappend(branch)\n\u001b[0;32m    163\u001b[0m     \u001b[39mfor\u001b[39;00m item \u001b[39min\u001b[39;00m branch:\n\u001b[1;32m--> 164\u001b[0m         count[item] \u001b[39m+\u001b[39m\u001b[39m=\u001b[39m node\u001b[39m.\u001b[39mcount\n\u001b[0;32m    166\u001b[0m \u001b[39m# Define new ordering or deep trees may have combinatorially explosion\u001b[39;00m\n\u001b[0;32m    167\u001b[0m items \u001b[39m=\u001b[39m [item \u001b[39mfor\u001b[39;00m item \u001b[39min\u001b[39;00m count \u001b[39mif\u001b[39;00m count[item] \u001b[39m>\u001b[39m\u001b[39m=\u001b[39m minsup]\n",
      "\u001b[1;31mKeyboardInterrupt\u001b[0m: "
     ]
    }
   ],
   "source": [
    "from models.fpgrowth import run_fpgrowth\n",
    "\n",
    "run_fpgrowth(min_support = .1, min_confidence = 0.5)\n"
   ]
  },
  {
   "cell_type": "code",
   "execution_count": 1,
   "metadata": {},
   "outputs": [
    {
     "name": "stdout",
     "output_type": "stream",
     "text": [
      "Hadoop version: 3.0.0\n"
     ]
    }
   ],
   "source": [
    "from pyspark.sql import SparkSession\n",
    "\n",
    "spark = SparkSession.builder.appName(\"HadoopVersion\").getOrCreate()\n",
    "hadoop_version = spark._jsc.hadoopConfiguration().get(\"hadoop.common.configuration.version\")\n",
    "print(\"Hadoop version:\", hadoop_version)\n",
    "\n",
    "spark.stop()"
   ]
  }
 ],
 "metadata": {
  "kernelspec": {
   "display_name": "Python 3",
   "language": "python",
   "name": "python3"
  },
  "language_info": {
   "codemirror_mode": {
    "name": "ipython",
    "version": 3
   },
   "file_extension": ".py",
   "mimetype": "text/x-python",
   "name": "python",
   "nbconvert_exporter": "python",
   "pygments_lexer": "ipython3",
   "version": "3.11.4"
  }
 },
 "nbformat": 4,
 "nbformat_minor": 2
}
